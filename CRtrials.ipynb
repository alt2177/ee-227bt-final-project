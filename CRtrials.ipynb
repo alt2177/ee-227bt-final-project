{
  "cells": [
    {
      "cell_type": "markdown",
      "metadata": {
        "jukit_cell_id": "rkJW50ytdW"
      },
      "source": [
        "# Timing CRVI "
      ]
    },
    {
      "cell_type": "code",
      "metadata": {
        "jukit_cell_id": "biNZkckDRR"
      },
      "source": [
        "import numpy as np\n",
        "from scipy.stats import norm, gamma\n",
        "import matplotlib.pyplot as plt\n",
        "import cvxpy as cp\n",
        "import time "
      ],
      "outputs": [],
      "execution_count": null
    },
    {
      "cell_type": "code",
      "metadata": {
        "jukit_cell_id": "qMEyriP3C2"
      },
      "source": [
        "np.random.seed(42)\n",
        "\n",
        "# Parameters (# of samples, # of features, beta params, alpha params)\n",
        "n = 100\n",
        "p = 5\n",
        "lambda_ = 2\n",
        "a0 = 10.0  \n",
        "b0 = 15.0  \n",
        "\n",
        "def generate_samples():\n",
        "    # Simulate X\n",
        "    X = np.random.randn(n, p)  \n",
        "    \n",
        "    # Simulate alpha \n",
        "    alpha = gamma.rvs(1, loc = a0, scale = 1 / b0)\n",
        "    \n",
        "    # Simulate beta \n",
        "    beta = np.random.normal(0, np.sqrt(1 / lambda_), p)\n",
        "    \n",
        "    # Simulate y\n",
        "    y = np.random.normal(X @ beta, 1 / np.sqrt(alpha))\n",
        "\n",
        "    return (X, y)"
      ],
      "outputs": [],
      "execution_count": null
    },
    {
      "cell_type": "code",
      "metadata": {
        "jukit_cell_id": "y49vsucgYN"
      },
      "source": [
        "# Define the objective function as trace(FA)\n",
        "def compute_F_0(X, y):\n",
        "    A_0 = np.zeros((3 + 2 * p + p ** 2, 3 + 2 * p + p ** 2))\n",
        "\n",
        "    # Define all of the terms in A_0:\n",
        "    \n",
        "    # For mu^T A_block u (sum of outer product of columns of X)\n",
        "    A_0[3 : 3 + p, 3 + p: 3 + 2 * p] = 0.5 * np.sum([np.outer(X[i], X[i]) for i in range(n)], axis = 0)\n",
        "    \n",
        "    # For e A_block Sigma\n",
        "    A_0[2][3 + 2 * p :] = (0.5 * np.sum([np.outer(X[i], X[i]) for i in range(n)], axis = 0)).ravel()\n",
        "    \n",
        "    # for mu^T lambda / 2 mu\n",
        "    A_0[3 : 3 + p, 3 : 3 + p] = np.eye(p) * lambda_ * 0.5\n",
        "    \n",
        "    b_0 = np.zeros(3 + 2 * p + p ** 2)\n",
        "    \n",
        "    # Define all the terms in b_0\n",
        "    b_0[2] = 0.5 * np.sum(np.square(y)) + b0\n",
        "    b_0[3 + p: 3 + 2 * p] = - np.sum(X, axis = 0) # x_i @ u\n",
        "    \n",
        "    # trace term\n",
        "    b_0[3 + 2 * p :] = (np.eye(p) * lambda_ * 0.5).ravel()\n",
        "    \n",
        "    # Now we can define F as we do in the paper\n",
        "    F_0 = np.zeros((4 + 2 * p + p ** 2, 4 + 2 * p + p ** 2)) \n",
        "    F_0[0, 1:] = 0.5 * b_0\n",
        "    F_0[1:, 0] = 0.5 * b_0\n",
        "    F_0[1:, 1:] = A_0\n",
        "    \n",
        "    return F_0"
      ],
      "outputs": [],
      "execution_count": null
    },
    {
      "cell_type": "code",
      "metadata": {
        "jukit_cell_id": "ALqTJtbar6"
      },
      "source": [
        "# Converting the other constraints into trace(FA) \n",
        "\n",
        "# Equality contraint for a:\n",
        "def compute_F_1(X, y):\n",
        "    b_1 = np.zeros(3 + 2 * p + p ** 2)\n",
        "    b_1[0] = 1\n",
        "    F_1 = np.zeros((4 + 2 * p + p ** 2, 4 + 2 * p + p ** 2)) \n",
        "    F_1[0, 1:] = 0.5 * b_1\n",
        "    F_1[1:, 0] = 0.5 * b_1\n",
        "    \n",
        "    return F_1\n",
        "\n",
        "# Equality constraint for c:\n",
        "def compute_F_2(X, y):\n",
        "    b_2 = np.zeros(3 + 2 * p + p ** 2)\n",
        "    b_2[1] = 1\n",
        "    F_2 = np.zeros((4 + 2 * p + p ** 2, 4 + 2 * p + p ** 2)) \n",
        "    F_2[0, 1:] = 0.5 * b_2\n",
        "    F_2[1:, 0] = 0.5 * b_2\n",
        "    return F_2\n",
        "\n",
        "# Equality constraint for ac - e = 0\n",
        "def compute_F_3(X, y):\n",
        "    A_3 = np.zeros((3 + 2 * p + p ** 2, 3 + 2 * p + p ** 2))\n",
        "    A_3[0, 1] = 1\n",
        "    b_3 = np.zeros(3 + 2 * p + p ** 2)\n",
        "    b_3[2] = -1\n",
        "    F_3 = np.zeros((4 + 2 * p + p ** 2, 4 + 2 * p + p ** 2)) \n",
        "    F_3[0, 1:] = 0.5 * b_3\n",
        "    F_3[1:, 0] = 0.5 * b_3\n",
        "    F_3[1:, 1:] = A_3\n",
        "    \n",
        "    return F_3\n",
        "\n",
        "# e >= 0\n",
        "def compute_F_4(X, y):\n",
        "    b_4 = np.zeros(3 + 2 * p + p ** 2)\n",
        "    b_4[2] = 1\n",
        "    F_4 = np.zeros((4 + 2 * p + p ** 2, 4 + 2 * p + p ** 2)) \n",
        "    F_4[0, 1:] = 0.5 * b_4\n",
        "    F_4[1:, 0] = 0.5 * b_4\n",
        "\n",
        "    return F_4"
      ],
      "outputs": [],
      "execution_count": null
    },
    {
      "cell_type": "code",
      "metadata": {
        "jukit_cell_id": "Zz1iMR44mc"
      },
      "source": [
        "# Implement the optimization:\n",
        "\n",
        "trials = 1000\n",
        "\n",
        "# Define variables\n",
        "A = cp.Variable((4 + 2 * p + p ** 2, 4 + 2 * p + p ** 2), symmetric=True)  \n",
        "a = cp.Variable(nonneg=True)  \n",
        "c = cp.Variable(nonneg=True)   \n",
        "Sigma = cp.Variable((p, p), symmetric=True)  \n",
        "\n",
        "ranks = np.zeros(trials)\n",
        "times = np.zeros(trials)\n",
        "\n",
        "for t in range(trials):\n",
        "\n",
        "    X, y = generate_samples()\n",
        "    F_0 = compute_F_0(X,y)\n",
        "    F_1 = compute_F_1(X,y)\n",
        "    F_2 = compute_F_2(X,y)\n",
        "    F_3 = compute_F_3(X,y)\n",
        "    F_4 = compute_F_4(X,y)\n",
        "    \n",
        "    # Objective function components for f_1 without the loggamma term:\n",
        "    term6 = - (n / 2) * (cp.log(a) -(1 / 2) * cp.inv_pos(a) -(1 / 12) * (cp.inv_pos(a) ** 2)  + cp.log(c)) \n",
        "    term7 = - (1 / 2) * cp.log_det(Sigma) \n",
        "    term8 = - a - cp.log(c) \n",
        "    term9 = - cp.log(a) +(1 / 2) * cp.inv_pos(a) +(1 / 12) * (cp.inv_pos(a) ** 2) - cp.entr(a) +(1/2) + (1 / 12) * (cp.inv_pos(a)) \n",
        "    term10 = -(a0 - 1) * cp.log(c)\n",
        "    term11 = -(a0 - 1) * (cp.log(a) -(1 / 2) * cp.inv_pos(a) -(1 / 12) * (cp.inv_pos(a) ** 2))\n",
        "    f_1 = term6 + term7 + term8 + term9 + term10  + term11 \n",
        "    \n",
        "    # Define objective function \n",
        "    objective = cp.Minimize(cp.trace(F_0 @ A) + f_1)\n",
        "    \n",
        "    # Some basic constrains, A is psd, Sigma is psd, a>0, c > 0, tr(F1A) = a, tr(F2A) = c, ac - e = 0, e >= 0\n",
        "    constraints = []\n",
        "    constraints.append(A >> 0)\n",
        "    constraints.append(A[0][0] == 1)\n",
        "    constraints.append(Sigma >> 0)\n",
        "    constraints.append(a >= 0)\n",
        "    constraints.append(c >= 0)\n",
        "    constraints.append(cp.trace(F_1 @ A) == a)\n",
        "    constraints.append(cp.trace(F_2 @ A) == c)\n",
        "    constraints.append(cp.trace(F_3 @ A) == 0)\n",
        "    constraints.append(cp.trace(F_4 @ A) >= 0)\n",
        "    \n",
        "    # Trace(F_ij A) = sigma_ij\n",
        "    for i in range(p**2):\n",
        "        b = np.zeros(3 + 2 * p + p ** 2)\n",
        "        b[3 + 2 * p + i] = 1\n",
        "        F = np.zeros((4 + 2 * p + p ** 2, 4 + 2 * p + p ** 2)) \n",
        "        F[0, 1:] = 0.5 * b\n",
        "        F[1:, 0] = 0.5 * b\n",
        "        row = i // p  \n",
        "        col = i % p  \n",
        "    \n",
        "        constraint = cp.trace(F @ A) == Sigma[row, col]\n",
        "        constraints.append(constraint)\n",
        "    \n",
        "    # e mu_i = u_i constraints:\n",
        "    for i in range(p):\n",
        "        A_k = np.zeros((3 + 2 * p + p ** 2, 3 + 2 * p + p ** 2))\n",
        "        A_k[2, 3 + i] = 1\n",
        "        b_k = np.zeros(3 + 2 * p + p ** 2)\n",
        "        b_k[3 + p + i] = -1\n",
        "        F_k = np.zeros((4 + 2 * p + p ** 2, 4 + 2 * p + p ** 2))\n",
        "        F_k[0, 1:] = 0.5 * b_k\n",
        "        F_k[1:, 0] = 0.5 * b_k\n",
        "        F_k[1:, 1:] = A_k\n",
        "        constraints.append(cp.trace(F_k @ A) == 0)\n",
        "        \n",
        "    # Add trace constraints\n",
        "    #constraints.append(cp.norm(A, \"nuc\") <= 3)\n",
        "    constraints.append(cp.trace(A) <= 10)\n",
        "    \n",
        "    # Give the objective and constraints\n",
        "    problem = cp.Problem(objective, constraints)\n",
        "\n",
        "    s_time = time.time()\n",
        "    # SCS is a conic solver and CLARABEL is an interior point solver\n",
        "    problem.solve(solver=cp.SCS, verbose=False)\n",
        "    #problem.solve(solver=cp.CLARABEL, verbose=True)\n",
        "    times[t] = time.time() - s_time\n",
        "    \n",
        "    #print(\"Optimal value:\", problem.value)\n",
        "    # print(\"Optimal A:\", A.value)\n",
        "    # print(\"Optimal a:\", a.value)\n",
        "    # print(\"Optimal c:\", c.value)\n",
        "    # print(\"Optimal Sigma:\", Sigma.value)\n",
        "    eigenvalues = np.linalg.eigvals(A.value)\n",
        "    #print(\"Rank of A:\", np.sum(eigenvalues > 1e-4))\n",
        "    ranks[t] = np.sum(eigenvalues > 1e-4)"
      ],
      "outputs": [],
      "execution_count": null
    },
    {
      "cell_type": "code",
      "metadata": {
        "jukit_cell_id": "ZDdffpUJ18"
      },
      "source": [
        "print(\"Average time:\", np.mean(times))\n",
        "print(\"Average rank:\", np.mean(ranks))\n",
        "#print(ranks)"
      ],
      "outputs": [
        {
          "name": "stdout",
          "output_type": "stream",
          "text": [
            "Average time: 0.37083310294151306\n",
            "Average rank: 2.851\n"
          ]
        }
      ],
      "execution_count": 1
    }
  ],
  "metadata": {
    "anaconda-cloud": {},
    "kernelspec": {
      "display_name": "python",
      "language": "python",
      "name": "python3"
    }
  },
  "nbformat": 4,
  "nbformat_minor": 4
}